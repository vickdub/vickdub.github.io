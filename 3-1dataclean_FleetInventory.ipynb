{
 "cells": [
  {
   "cell_type": "markdown",
   "id": "3157970d",
   "metadata": {},
   "source": [
    "Active Fleet inventory data extract cleaning process"
   ]
  },
  {
   "cell_type": "markdown",
   "id": "a04b1258",
   "metadata": {},
   "source": [
    "Set up daily download from ePlan emailed each weekday as .xls, connect to PowerQuery"
   ]
  },
  {
   "cell_type": "code",
   "execution_count": null,
   "id": "917d80cb",
   "metadata": {
    "vscode": {
     "languageId": "plaintext"
    }
   },
   "outputs": [],
   "source": [
    "let"
   ]
  },
  {
   "cell_type": "code",
   "execution_count": null,
   "id": "ed4782b0",
   "metadata": {
    "vscode": {
     "languageId": "plaintext"
    }
   },
   "outputs": [],
   "source": [
    "Source = Excel.Workbook(File.Contents(\"C:\\Users\\vwarren1\\OneDrive - CBRE, Inc\\Attachments\\Fleet Inventory.xlsx\"), null, true),"
   ]
  },
  {
   "cell_type": "markdown",
   "id": "5dcc9ce9",
   "metadata": {},
   "source": [
    "Filter Rows, Expand Data, Promote Headers"
   ]
  },
  {
   "cell_type": "code",
   "execution_count": null,
   "id": "7c26a554",
   "metadata": {
    "vscode": {
     "languageId": "plaintext"
    }
   },
   "outputs": [],
   "source": [
    "#\"Filtered Rows\" = Table.SelectRows(Source, each ([Name] = \"Details\")),\n",
    "    #\"Expanded Data\" = Table.ExpandTableColumn(#\"Filtered Rows\", \"Data\", {\"Column1\", \"Column2\", \"Column3\", \"Column4\", \"Column5\", \"Column6\", \"Column7\", \"Column8\", \"Column9\", \"Column10\", \"Column11\", \"Column12\", \"Column13\", \"Column14\", \"Column15\", \"Column16\", \"Column17\", \"Column18\", \"Column19\", \"Column20\"}, {\"Data.Column1\", \"Data.Column2\", \"Data.Column3\", \"Data.Column4\", \"Data.Column5\", \"Data.Column6\", \"Data.Column7\", \"Data.Column8\", \"Data.Column9\", \"Data.Column10\", \"Data.Column11\", \"Data.Column12\", \"Data.Column13\", \"Data.Column14\", \"Data.Column15\", \"Data.Column16\", \"Data.Column17\", \"Data.Column18\", \"Data.Column19\", \"Data.Column20\"}),\n",
    "    #\"Promoted Headers\" = Table.PromoteHeaders(#\"Expanded Data\", [PromoteAllScalars=true]),"
   ]
  },
  {
   "cell_type": "markdown",
   "id": "11eb3506",
   "metadata": {},
   "source": [
    "Changed data types for the following fields to text in order to Join with other data sources: Client Account Code, Year, AcctMethod Code, Client Unit Number, Make, Base Model, Vehicle Type, VIN, Fuel Type, Driver County, Driver City, Driver State, Driver Zip, Owner, Vehicle Telematics Serial #, Vehicle Contractor #, Vehicle GPS Supplier, Vehicle GPS Model#"
   ]
  },
  {
   "cell_type": "code",
   "execution_count": null,
   "id": "2cd7695c",
   "metadata": {
    "vscode": {
     "languageId": "plaintext"
    }
   },
   "outputs": [],
   "source": [
    "#\"Changed Type\" = Table.TransformColumnTypes(#\"Promoted Headers\",{{\"Client Account Code\", type text}, {\"Year\", type text}, {\"AcctMethod Code\", type text}, {\"Client Unit Number\", type text}, {\"ePlan Unit Number\", Int64.Type}, {\"Make\", type text}, {\"Base Model\", type text}, {\"Vehicle Type\", type text}, {\"VIN\", type text}, {\"Fuel Type\", type text}, {\"Months In Service\", Int64.Type}, {\"Driver County\", type text}, {\"Driver City\", type text}, {\"Driver State\", type text}, {\"Driver Zip\", type text}, {\"Owner\", type text}, {\"Vehicle Telematics Serial #\", type text}, {\"Vehicle Contractor #\", type text}, {\"Vehicle GPS Supplier\", type text}, {\"Vehicle GPS Model#\", type text}}),"
   ]
  },
  {
   "cell_type": "markdown",
   "id": "7aa27ecd",
   "metadata": {},
   "source": [
    "Remove records unneeded for data analysis, including MDHD Trucks, Equipment, Golf Carts, Latin American and Canadian Vehicles, and null records"
   ]
  },
  {
   "cell_type": "code",
   "execution_count": null,
   "id": "7669ee9f",
   "metadata": {
    "vscode": {
     "languageId": "plaintext"
    }
   },
   "outputs": [],
   "source": [
    "#\"Filtered out NonUS\" = Table.SelectRows(#\"Changed Type\", each ([Owner] <> \"LEASEPLAN CANADA\") and ([Driver State] <> \"PR\") and ([Driver State] <> \"AB\")and ([Driver State] <> \"BC\") and ([Driver State] <> \"MB\") and ([Driver State] <> \"NB\") and ([Driver State] <> \"NL\") and ([Driver State] <> \"NT\") and ([Driver State] <> \"NS\") and ([Driver State] <> \"NU\") and ([Driver State] <> \"ON\") and ([Driver State] <> \"PE\") and ([Driver State] <> \"QC\") and ([Driver State] <> \"SK\") and ([Driver State] <> \"YT\")\n",
    "),\n",
    "#\"Filtered out MDHR etc\" = Table.SelectRows(#\"Filtered out NonUS\", each ([Driver State] <> null) and ([Make] <> \"CITR\" and [Make] <> \"CLUB CAR\" and [Make] <> \"EQUIPMENT\" and [Make] <> \"EZ GO\" and [Make] <> \"GEM WAEV\" and [Make] <> \"HINO\" and [Make] <> \"HORTON VANS\" and [Make] <> \"INTERNATIONAL\" and [Make] <> \"ISUZU\" and [Make] <> \"JOHN DEERE\" and [Make] <> \"KENWORTH\" and [Make] <> \"MAXUS\" and [Make] <> \"POLARIS\" and [Make] <> \"TRIPLE-L\" and [Make] <> \"C6\" and [Base Model] <> \"GMC ME6500 C7D064\" and [Base Model] <> \"GMT-400\" and [Base Model] <> \"LCF\") and [Base Model] <> \"F-650 DIESEL\" and [Base Model] <> \"F-750 GAS\" ),\n",
    "    #\"Filtered Out Null Rows\" = Table.SelectRows(#\"Filtered out MDHR etc\", each ([Client Account Code] <> null)),"
   ]
  },
  {
   "cell_type": "markdown",
   "id": "def65ab9",
   "metadata": {},
   "source": [
    "Replaced fuel type values for accurate joining"
   ]
  },
  {
   "cell_type": "code",
   "execution_count": null,
   "id": "43f67e5e",
   "metadata": {
    "vscode": {
     "languageId": "plaintext"
    }
   },
   "outputs": [],
   "source": [
    "= Table.FuzzyNestedJoin(#\"Replaced Value4\", {\"Base Model\"}, Model_VehType, {\"Find Model\"}, \"Model_VehType\", JoinKind.LeftOuter, [IgnoreCase=true, IgnoreSpace=true])\n"
   ]
  },
  {
   "cell_type": "markdown",
   "id": "6002f074",
   "metadata": {},
   "source": [
    "Append joined columns to existing table"
   ]
  },
  {
   "cell_type": "code",
   "execution_count": null,
   "id": "aa32baed",
   "metadata": {
    "vscode": {
     "languageId": "plaintext"
    }
   },
   "outputs": [],
   "source": [
    "= Table.ExpandTableColumn(#\"Merged Queries\", \"Model_VehType\", {\"Find Model\", \"Replace Model\", \"Vehicle Type Corrected\"}, {\"Find Model\", \"Replace Model\", \"Vehicle Type Corrected\"})\n",
    "= Table.SelectRows(#\"Expanded Model_VehType1\", each true)"
   ]
  },
  {
   "cell_type": "markdown",
   "id": "ee8d7243",
   "metadata": {},
   "source": [
    "Remove and reorder original/dirty columns from FleetInventory"
   ]
  },
  {
   "cell_type": "code",
   "execution_count": null,
   "id": "8ed6b231",
   "metadata": {
    "vscode": {
     "languageId": "plaintext"
    }
   },
   "outputs": [],
   "source": [
    "= Table.RemoveColumns(#\"Filtered Rows3\",{\"Base Model\", \"Find Model\"})\n",
    "= Table.RenameColumns(#\"Removed Columns1\",{{\"Replace Model\", \"BaseModel\"}})\n",
    "= Table.ReorderColumns(#\"Renamed Columns\",{\"Client Account Code\", \"AcctMethod Code\", \"Client Unit Number\", \"ePlan Unit Number\", \"Year\", \"Make\", \"BaseModel\", \"Vehicle Type\", \"VIN\", \"Fuel Type\", \"Months In Service\", \"Driver County\", \"Driver City\", \"Driver State\", \"Driver Zip\", \"Owner\", \"Vehicle Telematics Serial #\", \"Vehicle Contractor #\", \"Vehicle GPS Supplier\", \"Vehicle GPS Model#\", \"Vehicle Type Corrected\"})\n",
    "= Table.RemoveColumns(#\"Reordered Columns\",{\"Vehicle Type\"})\n",
    "= Table.ReorderColumns(#\"Removed Columns2\",{\"Client Account Code\", \"AcctMethod Code\", \"Client Unit Number\", \"ePlan Unit Number\", \"Year\", \"Make\", \"BaseModel\", \"Vehicle Type Corrected\", \"VIN\", \"Fuel Type\", \"Months In Service\", \"Driver County\", \"Driver City\", \"Driver State\", \"Driver Zip\", \"Owner\", \"Vehicle Telematics Serial #\", \"Vehicle Contractor #\", \"Vehicle GPS Supplier\", \"Vehicle GPS Model#\"})\n",
    "= Table.RenameColumns(#\"Reordered Columns1\",{{\"Vehicle Type Corrected\", \"Vehicle Type\"}})"
   ]
  },
  {
   "cell_type": "markdown",
   "id": "e607425e",
   "metadata": {},
   "source": [
    "Remove null and duplicate fields as a result of Join\n"
   ]
  },
  {
   "cell_type": "code",
   "execution_count": null,
   "id": "d7015906",
   "metadata": {
    "vscode": {
     "languageId": "plaintext"
    }
   },
   "outputs": [],
   "source": [
    "= Table.SelectRows(#\"Renamed Columns1\", each ([BaseModel] <> null))"
   ]
  }
 ],
 "metadata": {
  "kernelspec": {
   "display_name": "Python 3 (ipykernel)",
   "language": "python",
   "name": "python3"
  },
  "language_info": {
   "codemirror_mode": {
    "name": "ipython",
    "version": 3
   },
   "file_extension": ".py",
   "mimetype": "text/x-python",
   "name": "python",
   "nbconvert_exporter": "python",
   "pygments_lexer": "ipython3",
   "version": "3.11.5"
  }
 },
 "nbformat": 4,
 "nbformat_minor": 5
}
