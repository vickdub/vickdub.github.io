{
 "cells": [
  {
   "cell_type": "markdown",
   "id": "3157970d",
   "metadata": {},
   "source": [
    "On Order Fleet inventory data extract cleaning process"
   ]
  },
  {
   "cell_type": "markdown",
   "id": "a04b1258",
   "metadata": {},
   "source": [
    "Set up daily download from ePlan emailed each weekday as .xls, connect to PowerQuery"
   ]
  },
  {
   "cell_type": "code",
   "execution_count": null,
   "id": "07ec9299",
   "metadata": {
    "vscode": {
     "languageId": "plaintext"
    }
   },
   "outputs": [],
   "source": []
  },
  {
   "cell_type": "code",
   "execution_count": null,
   "id": "ed4782b0",
   "metadata": {
    "vscode": {
     "languageId": "plaintext"
    }
   },
   "outputs": [],
   "source": [
    "    Source = Excel.Workbook(File.Contents(\"C:\\Users\\vwarren1\\OneDrive - CBRE, Inc\\Attachments\\FleetInventoryOnOrder.xlsx\"), null, true),"
   ]
  },
  {
   "cell_type": "markdown",
   "id": "5dcc9ce9",
   "metadata": {},
   "source": [
    "Filter Rows, Expand Data, Promote Headers"
   ]
  },
  {
   "cell_type": "code",
   "execution_count": null,
   "id": "753e9b0e",
   "metadata": {
    "vscode": {
     "languageId": "plaintext"
    }
   },
   "outputs": [],
   "source": [
    "Details_Sheet = Source{[Item=\"Details\",Kind=\"Sheet\"]}[Data],\n",
    "    #\"Promoted Headers\" = Table.PromoteHeaders(Details_Sheet, [PromoteAllScalars=true]),"
   ]
  },
  {
   "cell_type": "markdown",
   "id": "11eb3506",
   "metadata": {},
   "source": [
    "Changed data types for the following fields to text in order to Join with other data sources: Client Account Code, Year, AcctMethod Code, Client Unit Number, Make, Base Model, Vehicle Type, VIN, Fuel Type, Driver County, Driver City, Driver State, Driver Zip, Owner, Vehicle Telematics Serial #, Vehicle Contractor #, Vehicle GPS Supplier, Vehicle GPS Model#"
   ]
  },
  {
   "cell_type": "code",
   "execution_count": null,
   "id": "2cd7695c",
   "metadata": {
    "vscode": {
     "languageId": "plaintext"
    }
   },
   "outputs": [],
   "source": [
    "#\"Changed Type\" = Table.TransformColumnTypes(#\"Promoted Headers\",{{\"Client Account Code\", type text}, {\"Year\", type text}, {\"AcctMethod Code\", type text}, {\"Client Unit Number\", type text}, {\"ePlan Unit Number\", Int64.Type}, {\"Make\", type text}, {\"Base Model\", type text}, {\"Vehicle Type\", type text}, {\"VIN\", type text}, {\"Fuel Type\", type text}, {\"Months In Service\", Int64.Type}, {\"Driver County\", type text}, {\"Driver City\", type text}, {\"Driver State\", type text}, {\"Driver Zip\", type text}, {\"Owner\", type text}, {\"Vehicle Telematics Serial #\", type text}, {\"Vehicle Contractor #\", type text}, {\"Vehicle GPS Supplier\", type text}, {\"Vehicle GPS Model#\", type text}}),"
   ]
  },
  {
   "cell_type": "markdown",
   "id": "7aa27ecd",
   "metadata": {},
   "source": [
    "Filtered out records unneeded for data analysis, including MDHD Trucks, Equipment, Golf Carts, Latin American and Canadian Vehicles, and null records"
   ]
  },
  {
   "cell_type": "code",
   "execution_count": null,
   "id": "60ce30e3",
   "metadata": {
    "vscode": {
     "languageId": "plaintext"
    }
   },
   "outputs": [],
   "source": []
  },
  {
   "cell_type": "code",
   "execution_count": null,
   "id": "937f02a1",
   "metadata": {
    "vscode": {
     "languageId": "plaintext"
    }
   },
   "outputs": [],
   "source": [
    "#\"Filtered out NonUS\" = Table.SelectRows(#\"Changed Type\", each ([Owner] <> \"LEASEPLAN CANADA\") and ([Driver State] <> \"PR\") and ([Driver State] <> \"AB\")and ([Driver State] <> \"BC\") and ([Driver State] <> \"MB\") and ([Driver State] <> \"NB\") and ([Driver State] <> \"NL\") and ([Driver State] <> \"NT\") and ([Driver State] <> \"NS\") and ([Driver State] <> \"NU\") and ([Driver State] <> \"ON\") and ([Driver State] <> \"PE\") and ([Driver State] <> \"QC\") and ([Driver State] <> \"SK\") and ([Driver State] <> \"YT\")\n",
    "),\n",
    "    #\"Filtered out MHDR\" = Table.SelectRows(#\"Filtered out NonUS\", each ([Driver State] <> null) and ([Base Model] <> \"EL XD UTILITY TRUCK\" and [Base Model] <> \"F-650 GAS\" and [Base Model] <> \"F-750 DIESEL\")),"
   ]
  },
  {
   "cell_type": "markdown",
   "id": "20f7d7a3",
   "metadata": {},
   "source": [
    "Left join OnOrder with FuelType_GHG on 1) Year = year, 2) Make = make, and 3) Base Model = baseModel to clean dirty/null fields for visualization purposes and standardize descriptions based on DoT data"
   ]
  },
  {
   "cell_type": "code",
   "execution_count": null,
   "id": "43f67e5e",
   "metadata": {
    "vscode": {
     "languageId": "plaintext"
    }
   },
   "outputs": [],
   "source": [
    "#\"Merged Queries wDoT\" = Table.FuzzyNestedJoin(#\"Filtered out MHDR\", {\"Year\", \"Make\", \"Base Model\"}, FuelType_GHG, {\"year\", \"make\", \"baseModel\"}, \"Model_VehType\", JoinKind.LeftOuter, [IgnoreCase=true, IgnoreSpace=true]),\n"
   ]
  },
  {
   "cell_type": "markdown",
   "id": "6002f074",
   "metadata": {},
   "source": [
    "Expand joined columns from FuelType_GHG to existing table"
   ]
  },
  {
   "cell_type": "code",
   "execution_count": null,
   "id": "aa32baed",
   "metadata": {
    "vscode": {
     "languageId": "plaintext"
    }
   },
   "outputs": [],
   "source": [
    "#\"Expanded Model_VehType\" = Table.ExpandTableColumn(#\"Merged Queries wDoT\", \"Model_VehType\", {\"year\", \"make\", \"baseModel\", \"ghgScore\", \"VClass\", \"Vehicle Type\", \"Fuel Type\"}, {\"year.1\", \"make.1\", \"baseModel\", \"ghgScore\", \"VClass\", \"Vehicle Type.1\", \"Fuel Type.1\"}),\n"
   ]
  },
  {
   "cell_type": "markdown",
   "id": "ee8d7243",
   "metadata": {},
   "source": [
    "Reorder columns for ease of reading, removed duplicates on VIN, removed original/dirty columns from OnOrder"
   ]
  },
  {
   "cell_type": "code",
   "execution_count": null,
   "id": "8ed6b231",
   "metadata": {
    "vscode": {
     "languageId": "plaintext"
    }
   },
   "outputs": [],
   "source": [
    "\n",
    "#\"Reordered Columns\" = Table.ReorderColumns(#\"Expanded Model_VehType\",{\"year.1\", \"make.1\", \"baseModel\", \"ghgScore\", \"VClass\", \"Vehicle Type.1\", \"Fuel Type.1\", \"Year\", \"Make\", \"Base Model\", \"Vehicle Type\", \"VIN\", \"Fuel Type\", \"Months In Service\", \"Driver County\", \"Driver City\", \"Driver State\", \"Driver Zip\", \"Owner\", \"ePlan Unit Number\", \"Client Unit Number\", \"AcctMethod Code\", \"Client Account Code\", \"Vehicle Telematics Serial #\", \"Vehicle Contractor #\", \"Vehicle GPS Supplier\", \"Vehicle GPS Model#\"}),\n",
    "    #\"Removed Duplicates\" = Table.Distinct(#\"Reordered Columns\", {\"VIN\"}),\n",
    "    #\"Removed Columns\" = Table.RemoveColumns(#\"Removed Duplicates\",{\"Year\", \"Make\", \"Base Model\", \"Vehicle Type\", \"VClass\", \"Fuel Type\"}),\n",
    "    #\"Renamed Columns\" = Table.RenameColumns(#\"Removed Columns\",{{\"year.1\", \"Year\"}, {\"make.1\", \"Make\"}, {\"baseModel\", \"Model\"}, {\"ghgScore\", \"GHG Score\"}}),\n",
    "    #\"Renamed Columns1\" = Table.RenameColumns(#\"Renamed Columns\",{{\"Vehicle Type.1\", \"Vehicle Type\"}, {\"Fuel Type.1\", \"Fuel Type\"}}),"
   ]
  },
  {
   "cell_type": "markdown",
   "id": "e607425e",
   "metadata": {},
   "source": [
    "Changed column GHG Score to type Int64\n"
   ]
  },
  {
   "cell_type": "code",
   "execution_count": null,
   "id": "d7015906",
   "metadata": {
    "vscode": {
     "languageId": "plaintext"
    }
   },
   "outputs": [],
   "source": [
    "#\"Changed Type1\" = Table.TransformColumnTypes(#\"Renamed Columns1\",{{\"GHG Score\", Int64.Type}})"
   ]
  },
  {
   "cell_type": "code",
   "execution_count": null,
   "id": "d1c7cffc",
   "metadata": {
    "vscode": {
     "languageId": "plaintext"
    }
   },
   "outputs": [],
   "source": [
    "in\n",
    "    #\"Changed Type1\""
   ]
  }
 ],
 "metadata": {
  "kernelspec": {
   "display_name": "Python 3 (ipykernel)",
   "language": "python",
   "name": "python3"
  },
  "language_info": {
   "codemirror_mode": {
    "name": "ipython",
    "version": 3
   },
   "file_extension": ".py",
   "mimetype": "text/x-python",
   "name": "python",
   "nbconvert_exporter": "python",
   "pygments_lexer": "ipython3",
   "version": "3.11.5"
  }
 },
 "nbformat": 4,
 "nbformat_minor": 5
}
